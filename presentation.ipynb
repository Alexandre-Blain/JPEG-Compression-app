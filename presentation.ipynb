{
 "cells": [
  {
   "cell_type": "code",
   "execution_count": null,
   "id": "55bb388e",
   "metadata": {
    "slideshow": {
     "slide_type": "skip"
    }
   },
   "outputs": [],
   "source": [
    "import requests\n",
    "from PIL import Image\n",
    "import numpy as np\n",
    "import heapq\n",
    "from collections import defaultdict\n",
    "from io import BytesIO\n",
    "import imghdr\n",
    "import matplotlib.pyplot as plt\n",
    "import sys\n",
    "from scipy.fft import dct, idct\n",
    "import glob\n",
    "\n",
    "import holoviews as hv\n",
    "import panel as pn\n",
    "hv.extension('bokeh')\n",
    "from IPython.display import HTML\n",
    "from flask import Flask, jsonify, request\n",
    "\n",
    "# Fonction pour récupérer l'image\n",
    "def get_image_array(image_url):\n",
    "    try:\n",
    "        response = requests.get(image_url, headers={\"User-Agent\": \"Scholarship_Project_Agent\"})\n",
    "        response.raise_for_status()  # Vérifier si la requête HTTP a réussi\n",
    "\n",
    "        # Lire l'image à partir des données binaires\n",
    "        image = Image.open(BytesIO(response.content))\n",
    "\n",
    "        # Vérifier le format de l'image\n",
    "        if imghdr.what(None, h=response.content) == \"png\":\n",
    "            # Convertir l'image en tableau NumPy\n",
    "            image_array = np.array(image)\n",
    "\n",
    "            return image_array\n",
    "\n",
    "        else:\n",
    "            print(\"L'image n'est pas au format PNG.\")\n",
    "            return None\n",
    "\n",
    "    except requests.exceptions.HTTPError as http_err:\n",
    "        print(f\"Erreur HTTP : {http_err}\")\n",
    "        return None\n",
    "    except Exception as err:\n",
    "        print(f\"Erreur : {err}\")\n",
    "        return None\n",
    "\n",
    "# Exemple d'utilisation :\n",
    "# Source : https://commons.wikimedia.org/wiki/File:Lichtenstein_img_processing_test.png\n",
    "image_url = \"https://upload.wikimedia.org/wikipedia/commons/3/39/Lichtenstein_img_processing_test.png\"\n",
    "image = get_image_array(image_url)\n",
    "\n",
    "if image is not None:\n",
    "    plt.figure(figsize=(1,1))\n",
    "    plt.imshow(image[:,:,:])\n",
    "\n",
    "#sous-echantillonage 4:2:0\n",
    "def sub_cr(Cb):\n",
    "    Cb_down = np.zeros((int(Cb.shape[0]/2), int(Cb.shape[1]/2)))\n",
    "    for i in range(0, Cb.shape[0], 2):\n",
    "        for j in range(0, Cb.shape[1], 2):\n",
    "            block = Cb[i:i+2, j:j+2]\n",
    "            Cb_down[int(i/2), int(j/2)] = np.mean(block)\n",
    "    return Cb_down\n",
    "\n",
    "\n",
    "\n",
    "def split_into_blocks_numpy(image_channel, block_size=8):\n",
    "\n",
    "    height, width = image_channel.shape\n",
    "\n",
    "    # Calculez le nombre de blocs en hauteur et en largeur\n",
    "    num_blocks_height = -(-height // block_size)  # Round up division\n",
    "    num_blocks_width = -(-width // block_size)  # Round up division\n",
    "\n",
    "    # Paddage de l'image si nécessaire\n",
    "    padded_height = num_blocks_height * block_size\n",
    "    padded_width = num_blocks_width * block_size\n",
    "\n",
    "    padded_image = np.pad(image_channel, ((0, padded_height - height), (0, padded_width - width)), mode='edge')\n",
    "    #le mode=\"edge\" permet de répéter les bords du bloc en cas de division non-entière\n",
    "\n",
    "    # Reshape pour obtenir les blocs\n",
    "    blocks = padded_image.reshape(num_blocks_height, block_size, num_blocks_width, block_size)\n",
    "    blocks = blocks.transpose(0, 2, 1, 3).reshape(-1, block_size, block_size)\n",
    "\n",
    "    return blocks\n",
    "\n",
    "\n",
    "def dct2D(x):\n",
    "\ttmp = dct(x, type=2 ,norm='ortho').transpose()#on fait une dct sur les colonnes puis on transpose\n",
    "\treturn dct(tmp, type=2 ,norm='ortho').transpose()#on fait une dct sur les lignes puis on retranspose\n",
    "\n",
    "\n",
    "\n",
    "# Fonction pour afficher de manière jolie les canaux après la DCT\n",
    "def plot_dct_channels(Y_DCT, Cb_down_DCT, Cr_down_DCT):\n",
    "    # Créer une figure avec des sous-plots\n",
    "    fig, axes = plt.subplots(1, 3, figsize=(12, 4))\n",
    "\n",
    "    # Afficher le canal Y après la DCT\n",
    "    axes[0].imshow(np.log(np.abs(Y_DCT[3]) + 1), interpolation='nearest')\n",
    "    axes[0].set_title('Y Channel DCT')\n",
    "\n",
    "    # Afficher le canal Cb après la DCT\n",
    "    axes[1].imshow(np.log(np.abs(Cb_down_DCT[3]) + 1), interpolation='nearest')\n",
    "    axes[1].set_title('Cb Channel DCT')\n",
    "\n",
    "    # Afficher le canal Cr après la DCT\n",
    "    axes[2].imshow(np.log(np.abs(Cr_down_DCT[3]) + 1), interpolation='nearest')\n",
    "    axes[2].set_title('Cr Channel DCT')\n",
    "\n",
    "    # Afficher la figure\n",
    "    plt.show()\n",
    "\n",
    "\n",
    "\n",
    "def quantize(block, quantization_matrix):\n",
    "    quantized_block = np.round(np.divide(block, quantization_matrix)).astype(np.int64)\n",
    "\n",
    "    return quantized_block\n",
    "\n",
    "\n",
    "\n",
    "def dequantize(quantized_block, quantization_matrix):\n",
    "    block = np.multiply(quantized_block, quantization_matrix)\n",
    "    return block\n",
    "\n",
    "\n",
    "# Tables de quantification classiques utilisées en JPEG\n",
    "luma_table = np.array([\n",
    "    [16, 11, 10, 16, 24, 40, 51, 61],\n",
    "    [12, 12, 14, 19, 26, 40, 51, 61],\n",
    "    [14, 13, 15, 20, 25, 38, 51, 60],\n",
    "    [14, 17, 19, 22, 29, 44, 55, 64],\n",
    "    [18, 21, 26, 34, 37, 52, 61, 66],\n",
    "    [24, 26, 32, 40, 48, 58, 66, 70],\n",
    "    [29, 34, 39, 48, 56, 64, 72, 76],\n",
    "    [42, 49, 54, 64, 70, 77, 81, 83]\n",
    "])\n",
    "\n",
    "chroma_table = np.array([\n",
    "    [17, 18, 24, 40, 51, 61, 67, 72],\n",
    "    [18, 21, 26, 43, 55, 67, 72, 76],\n",
    "    [21, 25, 30, 47, 62, 72, 77, 80],\n",
    "    [24, 29, 34, 52, 65, 74, 79, 82],\n",
    "    [27, 32, 37, 56, 70, 78, 81, 85],\n",
    "    [30, 35, 39, 59, 73, 81, 84, 87],\n",
    "    [53, 62, 72, 84, 92, 99, 105, 110],\n",
    "    [60, 69, 77, 90, 98, 105, 110, 113]\n",
    "])\n",
    "\n",
    "\n",
    "# Les seuils sont basés sur des recommandations courantes pour le réglage de la qualité lors de la compression JPEG (Internet).\n",
    "def quality_factor_matrix(quality, quantization_matrix):\n",
    "    # Facteur de qualité entre 1 et 100\n",
    "    if quality < 50:\n",
    "        scale = 5000 / quality\n",
    "    else:\n",
    "        scale = 200 - 2 * quality\n",
    "\n",
    "    # On ajuste les tables de quantification en fonction du facteur de qualité\n",
    "    q_factor_quantization_matrix = ((quantization_matrix * quality) + 50) / 100\n",
    "    q_factor_quantization_matrix = np.clip(q_factor_quantization_matrix, 1, 255)\n",
    "\n",
    "    return q_factor_quantization_matrix\n",
    "\n",
    "quality = 100\n",
    "\n",
    "def quantize_image(image, quantization_matrix):\n",
    "    quantized = np.copy(image)\n",
    "    lenght = len(image)\n",
    "    for i in range(lenght):\n",
    "        quantized[i]=quantize(image[i], quantization_matrix)\n",
    "    return quantized\n",
    "\n",
    "def dequantize_image(q_image, quantization_matrix):\n",
    "    quantized = np.copy(q_image)\n",
    "    lenght = len(q_image)\n",
    "    for i in range(lenght):\n",
    "        quantized[i]=dequantize(q_image[i], quantization_matrix)\n",
    "    return quantized\n",
    "\n",
    "\n",
    "def zigzag_order(matrix):\n",
    "    # Obtient le nombre de lignes et de colonnes de la matrice\n",
    "    rows, cols = matrix.shape\n",
    "\n",
    "    # Initialisez une liste pour stocker le résultat du parcours en zigzag\n",
    "    result = []\n",
    "\n",
    "    # Parcourt de la diagonale supérieure gauche à la diagonale inférieure droite\n",
    "    for i in range(rows + cols - 1):\n",
    "        if i % 2 == 0:\n",
    "            # Si l'indice est pair, parcourt de haut en bas sur la diagonale\n",
    "            for j in range(max(0, i - cols + 1), min(rows, i + 1)):\n",
    "                result.append(matrix[j][i - j])\n",
    "        else:\n",
    "            # Si l'indice est impair, parcourt de bas en haut sur la diagonale\n",
    "            for j in range(min(i, rows - 1), max(0, i - cols + 1) - 1, -1):\n",
    "                result.append(matrix[j][i - j])\n",
    "\n",
    "    # Retourne la liste résultante\n",
    "    return result\n",
    "\n",
    "\n",
    "# Fonction pour encoder les valeurs RLE\n",
    "def rle_encode(data):\n",
    "    encoded_data = []\n",
    "    count = 1\n",
    "    for i in range(1, len(data)):\n",
    "        # Utiliser np.all pour comparer tous les éléments\n",
    "        if np.all(data[i] == data[i - 1]):\n",
    "            count += 1\n",
    "        else:\n",
    "            encoded_data.append((data[i - 1], count))\n",
    "            count = 1\n",
    "    # Ajouter la dernière séquence\n",
    "    encoded_data.append((data[-1], count))\n",
    "    return encoded_data\n",
    "\n",
    "\n",
    "# Fonction pour encoder les valeurs RLE avec Huffman\n",
    "def huffman_encode(rle_data):\n",
    "    # Création d'un dictionnaire pour compter la fréquence de chaque valeur\n",
    "    frequency_dict = defaultdict(int)\n",
    "\n",
    "    for value, count in rle_data:\n",
    "        # Convertir les valeurs numpy.ndarray en tuples pour les rendre hachables\n",
    "        if isinstance(value, np.ndarray):\n",
    "            value = tuple(value)\n",
    "        frequency_dict[value] += count\n",
    "\n",
    "    # Création d'un tas (heap) à partir du dictionnaire de fréquence\n",
    "    heap = [[weight, [symbol, \"\"]] for symbol, weight in frequency_dict.items()]\n",
    "    heapq.heapify(heap)\n",
    "\n",
    "    # Si le tas n'a qu'un seul élément, lui assigner un code binaire fixe\n",
    "    if len(heap) == 1:\n",
    "        heap = [[heap[0][0], [heap[0][1][0], '0']]]\n",
    "\n",
    "    # Combinaison des deux éléments les moins fréquents jusqu'à ce que le tas ne contienne qu'un seul élément\n",
    "    while len(heap) > 1:\n",
    "        lo = heapq.heappop(heap)\n",
    "        hi = heapq.heappop(heap)\n",
    "        for pair in lo[1:]:\n",
    "            pair[1] = '0' + pair[1]\n",
    "        for pair in hi[1:]:\n",
    "            pair[1] = '1' + pair[1]\n",
    "        heapq.heappush(heap, [lo[0] + hi[0]] + lo[1:] + hi[1:])\n",
    "\n",
    "    # Création d'un dictionnaire Huffman à partir de l'arbre\n",
    "    huffman_dict = {symbol: code for symbol, code in heap[0][1:]}\n",
    "\n",
    "    # Encodage des données RLE en utilisant le dictionnaire Huffman\n",
    "    encoded_data = \"\".join(huffman_dict[tuple(value)] if isinstance(value, np.ndarray) else huffman_dict[value] for value, count in rle_data for _ in range(count))\n",
    "\n",
    "    return encoded_data, huffman_dict\n",
    "\n",
    "def encode_blocks(blocks):\n",
    "    zigzag_data, rle_data, encoded_data, huffman_dicts = [], [], [], []\n",
    "    for block in blocks:\n",
    "        # Zigzag Order\n",
    "        zz_data = zigzag_order(block)\n",
    "        zigzag_data.append(zz_data)\n",
    "\n",
    "        # RLE Encode\n",
    "        rle_data_block = rle_encode(zz_data)\n",
    "        rle_data.append(rle_data_block)\n",
    "\n",
    "        # Huffman Encode\n",
    "        encoded_block, huffman_dict = huffman_encode(rle_data_block)\n",
    "        encoded_data.append(encoded_block)\n",
    "        huffman_dicts.append(huffman_dict)\n",
    "\n",
    "    return encoded_data, huffman_dicts\n",
    "\n",
    "\n",
    "def encode_image_to_huffman(image, quality = 100):\n",
    "    #image en output\n",
    "    V = image[:,:,0]\n",
    "    B = image[:,:,1]\n",
    "    R = image[:,:,2]\n",
    "    #using coefficients of https://www.youtube.com/watch?v=Kv1Hiv3ox8I\n",
    "    Y=(0.3*R+0.6*V+0.11*B)\n",
    "    Cb =np.array(-0.17*R +0.5 *B - 0.33*V+128)\n",
    "    Cr =np.array( 0.5*R - 0.42*V- 0.08*B+128)\n",
    "    #sous echantillonnage de l'image\n",
    "    Cb_down = sub_cr(Cb)\n",
    "    Cr_down = sub_cr(Cr)\n",
    "\n",
    "    Y_blocks = split_into_blocks_numpy(Y)\n",
    "    Cb_down_blocks=split_into_blocks_numpy(Cb_down)\n",
    "    Cr_down_blocks=split_into_blocks_numpy(Cr_down)\n",
    "\n",
    "    Y_DCT=dct2D(Y_blocks)\n",
    "    Cb_down_DCT=dct2D(Cb_down_blocks)\n",
    "    Cr_down_DCT=dct2D(Cr_down_blocks)\n",
    "\n",
    "    Y_quantized = quantize_image(Y_DCT, quality_factor_matrix(quality, luma_table))\n",
    "    Cb_quantized = quantize_image(Cb_down_DCT, quality_factor_matrix(quality, chroma_table))\n",
    "    Cr_quantized = quantize_image(Cr_down_DCT, quality_factor_matrix(quality, chroma_table))\n",
    "\n",
    "    encoded_data = []\n",
    "    huffman_dicts = []\n",
    "\n",
    "    # Encoder les données Y\n",
    "    encoded_Y, huffman_Y = encode_blocks(Y_quantized)\n",
    "    encoded_data.append(encoded_Y)\n",
    "    huffman_dicts.append(huffman_Y)\n",
    "\n",
    "    # Encoder les données Cb\n",
    "    encoded_Cb, huffman_Cb = encode_blocks(Cb_quantized)\n",
    "    encoded_data.append(encoded_Cb)\n",
    "    huffman_dicts.append(huffman_Cb)\n",
    "\n",
    "    # Encoder les données Cr\n",
    "    encoded_Cr, huffman_Cr = encode_blocks(Cr_quantized)\n",
    "    encoded_data.append(encoded_Cr)\n",
    "    huffman_dicts.append(huffman_Cr)\n",
    "\n",
    "    return encoded_data, huffman_dicts\n",
    "\n",
    "def calculate_entropy(huffman_code):\n",
    "    unique_values, counts = np.unique(huffman_code, return_counts=True)\n",
    "    probabilities = counts / len(huffman_code)\n",
    "\n",
    "    entropy = -np.sum(probabilities * np.log2(probabilities))\n",
    "\n",
    "    return entropy\n",
    "\n",
    "def huffman_decode(encoded_data, huffman_dict):\n",
    "    # Inverser le dictionnaire Huffman\n",
    "    decode_dict = {code: symbol for symbol, code in huffman_dict.items()}\n",
    "\n",
    "    decoded_values = []\n",
    "    temp_code = \"\"\n",
    "    for bit in encoded_data:\n",
    "        temp_code += bit\n",
    "        if temp_code in decode_dict:\n",
    "            symbol = decode_dict[temp_code]\n",
    "            decoded_values.append(symbol)\n",
    "            temp_code = \"\"\n",
    "\n",
    "    return decoded_values\n",
    "\n",
    "\n",
    "def rle_decode(encoded_data):\n",
    "    decoded_data = np.array([])\n",
    "    for value, count in encoded_data:\n",
    "        decoded_data = np.append(decoded_data, np.repeat(value, count))\n",
    "    return decoded_data\n",
    "\n",
    "\n",
    "def zigzag_decode(zigzag_data, rows, cols):\n",
    "    matrix = [[0] * cols for _ in range(rows)]\n",
    "    index = 0\n",
    "    for i in range(rows + cols - 1):\n",
    "        if i % 2 == 0:\n",
    "            for j in range(max(0, i - cols + 1), min(rows, i + 1)):\n",
    "                matrix[j][i - j] = zigzag_data[index]\n",
    "                index += 1\n",
    "        else:\n",
    "            for j in range(min(i, rows - 1), max(0, i - cols + 1) - 1, -1):\n",
    "                matrix[j][i - j] = zigzag_data[index]\n",
    "                index += 1\n",
    "    return matrix\n",
    "\n",
    "\n",
    "\n",
    "def decode_blocks(encoded_blocks, huffman_dicts, block_size = 8):\n",
    "    decoded_blocks = []\n",
    "    for block_index, encoded_block in enumerate(encoded_blocks):\n",
    "        huffman_dict = huffman_dicts[block_index]\n",
    "\n",
    "        # Huffman Decode\n",
    "        rle_data = huffman_decode(encoded_block, huffman_dict)\n",
    "\n",
    "        # Zigzag Reorder to Block\n",
    "        block = zigzag_decode(rle_data, block_size, block_size)\n",
    "        decoded_blocks.append(block)\n",
    "\n",
    "    return decoded_blocks\n",
    "\n",
    "\n",
    "def idct2D(x):\n",
    "    tmp = idct(x, type=2, norm='ortho').transpose()\n",
    "    return idct(tmp, type=2, norm='ortho').transpose()\n",
    "\n",
    "\n",
    "\n",
    "def block_into_image(channel_block):\n",
    "\n",
    "    nb_blocks, length, width = channel_block.shape\n",
    "    image_shape=int(np.sqrt(nb_blocks*length*width))\n",
    "    channel=channel_block.reshape((nb_blocks,length*width))\n",
    "    channel=channel.reshape((image_shape,image_shape))\n",
    "\n",
    "\n",
    "    return(channel)\n",
    "\n",
    "\n",
    "def combine_blocks(blocks, original_shape):\n",
    "    \"\"\"\n",
    "    Combine les blocs dans une seule image en inversant le processus de découpage.\n",
    "\n",
    "    Parameters:\n",
    "    - blocks: Les blocs résultants du processus de découpage.\n",
    "    - original_shape: La forme originale de l'image avant le découpage.\n",
    "\n",
    "    Returns:\n",
    "    - L'image reconstituée.\n",
    "    \"\"\"\n",
    "\n",
    "    block_size = blocks.shape[1]  # Taille du bloc\n",
    "    num_blocks_height = original_shape[0] // block_size\n",
    "    num_blocks_width = original_shape[1] // block_size\n",
    "\n",
    "    # Reshape pour obtenir les blocs dans le format original\n",
    "    reshaped_blocks = blocks.reshape(num_blocks_height, num_blocks_width, block_size, block_size)\n",
    "\n",
    "    # Transposer les axes pour obtenir la forme correcte\n",
    "    transposed_blocks = reshaped_blocks.transpose(0, 2, 1, 3)\n",
    "\n",
    "    # Reshape pour obtenir l'image originale\n",
    "    reconstructed_image = transposed_blocks.reshape(original_shape)\n",
    "\n",
    "    return reconstructed_image\n",
    "\n",
    "\n",
    "\n",
    "\n",
    "def unsub_cb(Cb_down):\n",
    "  val_int = 0\n",
    "  Cb=np.zeros((int(Cb_down.shape[0]*2),int(Cb_down.shape[1]*2)))\n",
    "  for i in range(int(Cb_down.shape[0])):\n",
    "    colonne_max = (i+1)*2-1\n",
    "    for j in range(int(Cb_down.shape[1])):\n",
    "      ligne_max = (j+1)*2-1\n",
    "      val_int = Cb_down[i,j]\n",
    "      Cb[colonne_max, ligne_max] = val_int\n",
    "      Cb[colonne_max, ligne_max-1] = val_int\n",
    "      Cb[colonne_max-1, ligne_max] = val_int\n",
    "      Cb[colonne_max-1, ligne_max-1] = val_int\n",
    "  return Cb\n",
    "\n",
    "def calculate_RGB(Y, Cb, Cr):\n",
    "  R_result = 0.990 * Y  + 0.008 * (Cb - 128)+1.409*(Cr - 128)\n",
    "  V_result =  0.990 * Y  -0.331 * (Cb - 128)-0.707*(Cr - 128)\n",
    "  B_result =  0.990 * Y  +1.784 * (Cb - 128)+0.013*(Cr - 128)\n",
    "  return(R_result,V_result,B_result)\n",
    "\n",
    "\n",
    "\n",
    "def decode_huffman_to_image(encoded_data, huffman_dicts, quality = 100):\n",
    "    # Extraire les données encodées et les dictionnaires Huffman pour chaque composante\n",
    "    encoded_Y, encoded_Cb, encoded_Cr = encoded_data\n",
    "    huffman_Y, huffman_Cb, huffman_Cr = huffman_dicts\n",
    "\n",
    "    # Décoder les données Y\n",
    "    decoded_Y = decode_blocks(encoded_Y, huffman_Y)\n",
    "\n",
    "    # Décoder les données Cb\n",
    "    decoded_Cb = decode_blocks(encoded_Cb, huffman_Cb)\n",
    "\n",
    "    # Décoder les données Cr\n",
    "    decoded_Cr = decode_blocks(encoded_Cr, huffman_Cr)\n",
    "\n",
    "    # La fonction a déja été définie dans la partie quantification\n",
    "    dequantized_Y = dequantize_image(decoded_Y, quality_factor_matrix(quality, luma_table))\n",
    "    dequantized_Cb = dequantize_image(decoded_Cb, quality_factor_matrix(quality, chroma_table))\n",
    "    dequantized_Cr = dequantize_image(decoded_Cr, quality_factor_matrix(quality, chroma_table))\n",
    "\n",
    "    Y_IDCT_blocks=idct2D(dequantized_Y)\n",
    "    Cb_down_IDCT_blocks=idct2D(dequantized_Cb)\n",
    "    Cr_down_IDCT_blocks=idct2D(dequantized_Cr)\n",
    "\n",
    "    #Y_IDCT = block_into_image(Y_IDCT_blocks)\n",
    "    #Cb_down_IDCT = block_into_image(Cb_down_IDCT_blocks)\n",
    "    #Cr_down_IDCT = block_into_image(Cr_down_IDCT_blocks)\n",
    "\n",
    "    Y_IDCT = combine_blocks(Y_IDCT_blocks, original_shape=(int(np.sqrt(Y_IDCT_blocks.shape[0]*8*8)), int(np.sqrt(Y_IDCT_blocks.shape[0]*8*8))))\n",
    "    Cb_down_IDCT = combine_blocks(Cb_down_IDCT_blocks, original_shape=(int(np.sqrt(Cb_down_IDCT_blocks.shape[0]*8*8)), int(np.sqrt(Cb_down_IDCT_blocks.shape[0]*8*8))))\n",
    "    Cr_down_IDCT = combine_blocks(Cr_down_IDCT_blocks, original_shape=(int(np.sqrt(Cr_down_IDCT_blocks.shape[0]*8*8)), int(np.sqrt(Cr_down_IDCT_blocks.shape[0]*8*8))))\n",
    "\n",
    "    un_cb = unsub_cb(Cb_down_IDCT)\n",
    "    un_cr = unsub_cb(Cr_down_IDCT)\n",
    "    # Calcul des composantes RVB\n",
    "    R_result, V_result, B_result = calculate_RGB(Y_IDCT, un_cb, un_cr)\n",
    "\n",
    "    image_result=np.stack([ V_result, B_result,R_result],axis=-1)\n",
    "\n",
    "    return image_result\n",
    "\n",
    "\n",
    "\n",
    "def calculate_entrop_t(image):\n",
    "    \"\"\"Calculate the entropy of an image.\"\"\"\n",
    "    if image.dtype != np.uint8:\n",
    "        image = image.astype(np.uint8)\n",
    "    image = image.flatten()  # Flatten the image to 1D array for histogram\n",
    "    histogram = np.bincount(image, minlength=256)\n",
    "    probabilities = histogram / len(image)  # Normalize to probabilities\n",
    "    probabilities = probabilities[probabilities > 0]  # Exclude zero entries\n",
    "    entropy = -np.sum(probabilities * np.log2(probabilities))  # Calculate entropy\n",
    "    return entropy\n",
    "\n",
    "\n",
    "def calculate_bin(value):\n",
    "  return len(value)//8\n",
    "\n",
    "def calculate_numpy_image_size(image):\n",
    "    # Obtenir les dimensions de l'image\n",
    "    height, width, channels = image.shape\n",
    "    # Chaque pixel utilise 'channels' octets (typiquement 3 pour RGB)\n",
    "    size_in_bytes = height * width * channels\n",
    "    return size_in_bytes\n",
    "\n",
    "\n",
    "def calculate_encrypted_data_size(encrypted_data):\n",
    "    size_in_bytes = 0\n",
    "    # La taille en bits est égale à la longueur de la chaîne\n",
    "    size_in_bits = calculate_bin(encrypted_data)\n",
    "    return size_in_bytes\n",
    "\n",
    "def calculate_huffman_dict_size(huffman_dicts):\n",
    "    key_size = 0\n",
    "    value_size = 0\n",
    "    for huffman_dict in huffman_dicts:\n",
    "      for h in huffman_dict:\n",
    "        for key, value in h.items():\n",
    "            # Taille de la clé (entier) + taille de la valeur (chaîne binaire)\n",
    "            key_size += 4 #4 octets par int et un int par key\n",
    "            value_size += calculate_bin(value)  # value en binaire\n",
    "    return key_size + value_size\n",
    "\n",
    "def calculate_huffman(encoded_data, huffman_dicts):\n",
    "  return calculate_encrypted_data_size(encoded_data)+calculate_huffman_dict_size(huffman_dicts)\n",
    "\n",
    "\n",
    "\n",
    "def load_images(folder_path = \"images\"):\n",
    "    image_paths = glob.glob(f\"{folder_path}/*.png\")\n",
    "\n",
    "    images = {}\n",
    "\n",
    "    for image_path in image_paths:\n",
    "        image_name = image_path.split(\"/\")[-1]\n",
    "        image = np.array(Image.open(image_path))\n",
    "        images[image_name] = image\n",
    "\n",
    "    return images\n",
    "def get_images_variables_for_entropy(images = load_images(folder_path = \"images\"), quality = 100):\n",
    "    images_variables = {}\n",
    "\n",
    "    for image_name, image in images.items():\n",
    "        #image en output\n",
    "        V = image[:,:,0]\n",
    "        B = image[:,:,1]\n",
    "        R = image[:,:,2]\n",
    "        #using coefficients of https://www.youtube.com/watch?v=Kv1Hiv3ox8I\n",
    "        Y=(0.3*R+0.6*V+0.11*B)\n",
    "        Cb =np.array(-0.17*R +0.5 *B - 0.33*V+128)\n",
    "        Cr =np.array( 0.5*R - 0.42*V- 0.08*B+128)\n",
    "        #sous echantillonnage de l'image\n",
    "        Cb_down = sub_cr(Cb)\n",
    "        Cr_down = sub_cr(Cr)\n",
    "\n",
    "        Y_blocks = split_into_blocks_numpy(Y)\n",
    "        Cb_down_blocks=split_into_blocks_numpy(Cb_down)\n",
    "        Cr_down_blocks=split_into_blocks_numpy(Cr_down)\n",
    "\n",
    "        Y_DCT=dct2D(Y_blocks)\n",
    "        Cb_down_DCT=dct2D(Cb_down_blocks)\n",
    "        Cr_down_DCT=dct2D(Cr_down_blocks)\n",
    "\n",
    "        Y_quantized = quantize_image(Y_DCT, quality_factor_matrix(quality, luma_table))\n",
    "        Cb_quantized = quantize_image(Cb_down_DCT, quality_factor_matrix(quality, chroma_table))\n",
    "        Cr_quantized = quantize_image(Cr_down_DCT, quality_factor_matrix(quality, chroma_table))\n",
    "\n",
    "        encoded_data = []\n",
    "        huffman_dicts = []\n",
    "\n",
    "        # Encoder les données Y\n",
    "        encoded_Y, huffman_Y = encode_blocks(Y_quantized)\n",
    "        encoded_data.append(encoded_Y)\n",
    "        huffman_dicts.append(huffman_Y)\n",
    "\n",
    "        # Encoder les données Cb\n",
    "        encoded_Cb, huffman_Cb = encode_blocks(Cb_quantized)\n",
    "        encoded_data.append(encoded_Cb)\n",
    "        huffman_dicts.append(huffman_Cb)\n",
    "\n",
    "        # Encoder les données Cr\n",
    "        encoded_Cr, huffman_Cr = encode_blocks(Cr_quantized)\n",
    "        encoded_data.append(encoded_Cr)\n",
    "        huffman_dicts.append(huffman_Cr)\n",
    "\n",
    "        # Récupérer l'image décodée\n",
    "        image_result = decode_huffman_to_image(encoded_data, huffman_dicts)\n",
    "\n",
    "        # Stocker les informations dans le dictionnaire\n",
    "        images_variables[image_name] = {\n",
    "            \"Image originale\": image,\n",
    "            \"Changement base couleur\": np.concatenate((Y.flatten(), Cb.flatten(), Cr.flatten()), axis=0),\n",
    "            \"Sous-échantillonage\": np.concatenate((Y.flatten(), unsub_cb(Cb_down).flatten(), unsub_cb(Cr_down).flatten()), axis=0),\n",
    "            \"DCT\": np.concatenate((combine_blocks(Y_DCT, original_shape = (int(image.shape[0]), int(image.shape[1]))), unsub_cb(combine_blocks(Cb_down_DCT, original_shape = (int(image.shape[0]/2), int(image.shape[1]/2)))), unsub_cb(combine_blocks(Cr_down_DCT, original_shape = (int(image.shape[0]/2), int(image.shape[1]/2))))), axis=0),\n",
    "            \"Quantification\": np.concatenate((combine_blocks(Y_quantized, original_shape = (int(image.shape[0]), int(image.shape[1]))), unsub_cb(combine_blocks(Cb_quantized, original_shape = (int(image.shape[0]/2), int(image.shape[1]/2)))), unsub_cb(combine_blocks(Cr_quantized, original_shape = (int(image.shape[0]/2), int(image.shape[1]/2))))), axis=0),\n",
    "            \"Image décodée\": image_result\n",
    "        }\n",
    "\n",
    "        return images_variables\n",
    "\n",
    "def get_images_variables_entropy(images_variables):\n",
    "    images_variables_entropy = {}\n",
    "\n",
    "    for image_name, image_data in images_variables.items():\n",
    "        images_variables_entropy[image_name] = {}\n",
    "        for key, value in image_data.items():\n",
    "            images_variables_entropy[image_name][key] = calculate_entrop_t(value)\n",
    "\n",
    "    return images_variables_entropy\n",
    "\n",
    "\n",
    "\n",
    "# Fonction pour tracer le graphique en barres en fonction de l'image et de la qualité\n",
    "def plot_entropy(image_name, quality):\n",
    "    images_variables = get_images_variables_for_entropy(images, quality)\n",
    "    images_variables_entropy = get_images_variables_entropy(images_variables)\n",
    "\n",
    "    image_data = images_variables_entropy[image_name]\n",
    "\n",
    "    # Extraction des noms des composantes et de leurs entropies\n",
    "    components = list(image_data.keys())\n",
    "    entropies = [image_data[component] for component in components]\n",
    "\n",
    "    # Calculer le pourcentage de l'entropie par rapport à l'entropie de l'image originale\n",
    "    original_entropy = image_data['Image originale']\n",
    "    entropies_percentage = [entropy / original_entropy * 100 for entropy in entropies]\n",
    "\n",
    "    # Création du bar plot pour l'image sélectionnée\n",
    "    bar_plot = hv.Bars((components, entropies_percentage)).opts(\n",
    "        xlabel='Composantes de l\\'image', ylabel='Entropie en pourcentage de l\\'image originale',\n",
    "        title=f'Entropie des composantes pour {image_name}', width=600, height=400,\n",
    "        xrotation=45, tools=['hover'])\n",
    "\n",
    "    return bar_plot\n",
    "\n",
    "def get_images_variables_for_byte(images = load_images(folder_path = \"images\"), quality = 100):\n",
    "    images_variables = {}\n",
    "\n",
    "    for image_name, image in images.items():\n",
    "        #image en output\n",
    "        V = image[:,:,0]\n",
    "        B = image[:,:,1]\n",
    "        R = image[:,:,2]\n",
    "        #using coefficients of https://www.youtube.com/watch?v=Kv1Hiv3ox8I\n",
    "        Y=(0.3*R+0.6*V+0.11*B)\n",
    "        Cb =np.array(-0.17*R +0.5 *B - 0.33*V+128)\n",
    "        Cr =np.array( 0.5*R - 0.42*V- 0.08*B+128)\n",
    "        #sous echantillonnage de l'image\n",
    "        Cb_down = sub_cr(Cb)\n",
    "        Cr_down = sub_cr(Cr)\n",
    "\n",
    "        Y_blocks = split_into_blocks_numpy(Y)\n",
    "        Cb_down_blocks=split_into_blocks_numpy(Cb_down)\n",
    "        Cr_down_blocks=split_into_blocks_numpy(Cr_down)\n",
    "\n",
    "        Y_DCT=dct2D(Y_blocks)\n",
    "        Cb_down_DCT=dct2D(Cb_down_blocks)\n",
    "        Cr_down_DCT=dct2D(Cr_down_blocks)\n",
    "\n",
    "        Y_quantized = quantize_image(Y_DCT, quality_factor_matrix(quality, luma_table))\n",
    "        Cb_quantized = quantize_image(Cb_down_DCT, quality_factor_matrix(quality, chroma_table))\n",
    "        Cr_quantized = quantize_image(Cr_down_DCT, quality_factor_matrix(quality, chroma_table))\n",
    "\n",
    "        encoded_data = []\n",
    "        huffman_dicts = []\n",
    "\n",
    "        # Encoder les données Y\n",
    "        encoded_Y, huffman_Y = encode_blocks(Y_quantized)\n",
    "        encoded_data.append(encoded_Y)\n",
    "        huffman_dicts.append(huffman_Y)\n",
    "\n",
    "        # Encoder les données Cb\n",
    "        encoded_Cb, huffman_Cb = encode_blocks(Cb_quantized)\n",
    "        encoded_data.append(encoded_Cb)\n",
    "        huffman_dicts.append(huffman_Cb)\n",
    "\n",
    "        # Encoder les données Cr\n",
    "        encoded_Cr, huffman_Cr = encode_blocks(Cr_quantized)\n",
    "        encoded_data.append(encoded_Cr)\n",
    "        huffman_dicts.append(huffman_Cr)\n",
    "\n",
    "        # Récupérer l'image décodée\n",
    "        image_result = decode_huffman_to_image(encoded_data, huffman_dicts)\n",
    "\n",
    "        # Stocker les informations dans le dictionnaire\n",
    "        images_variables[image_name] = {\n",
    "            \"Image originale\": image,\n",
    "            \"Encodage d'Huffman\": (encoded_data, huffman_dicts),\n",
    "            \"Image décodée\": image_result\n",
    "        }\n",
    "\n",
    "        return images_variables\n",
    "\n",
    "def get_images_variables_byte(images_variables):\n",
    "    images_variables_byte = {}\n",
    "\n",
    "    for image_name, image_data in images_variables.items():\n",
    "\n",
    "        # Stocker les informations dans le dictionnaire\n",
    "        images_variables_byte[image_name] = {\n",
    "            \"Image originale\": calculate_numpy_image_size(image_data[\"Image originale\"]),\n",
    "            \"Encodage d'Huffman\": calculate_huffman(image_data[\"Encodage d'Huffman\"][0], image_data[\"Encodage d'Huffman\"][1]),\n",
    "            \"Image décodée\": calculate_numpy_image_size(image_data[\"Image décodée\"])\n",
    "        }\n",
    "        \n",
    "\n",
    "    return images_variables_byte\n",
    "\n",
    "\n",
    "\n",
    "# Fonction pour tracer le graphique en barres en fonction de l'image et de la qualité\n",
    "def plot_byte(image_name, quality):\n",
    "    images_variables = get_images_variables_for_byte(images, quality)\n",
    "    images_variables_byte = get_images_variables_byte(images_variables)\n",
    "\n",
    "    image_data = images_variables_byte[image_name]\n",
    "\n",
    "    # Extraction des noms des composantes et de leurs bytes\n",
    "    components = list(image_data.keys())\n",
    "    bytes = [image_data[component] for component in components]\n",
    "\n",
    "    # Calculer le pourcentage de l'entropie par rapport à l'entropie de l'image originale\n",
    "    original_byte = image_data['Image originale']\n",
    "    bytes_percentage = [byte / original_byte * 100 for byte in bytes]\n",
    "\n",
    "    # Création du bar plot pour l'image sélectionnée\n",
    "    bar_plot = hv.Bars((components, bytes_percentage)).opts(\n",
    "        xlabel='Composantes de l\\'image', ylabel='Entropie en pourcentage de l\\'image originale',\n",
    "        title=f'Entropie des composantes pour {image_name}', width=600, height=400,\n",
    "        xrotation=45, tools=['hover'])\n",
    "\n",
    "    return bar_plot\n",
    "def plot_fig_entropy(obj, name,entrop=True):\n",
    "    fig, axs = plt.subplots(1, 3, figsize=(12, 4))\n",
    "    list_entrop = []\n",
    "    for i, (k, j) in enumerate(zip(obj, name)):\n",
    "        axs[i].imshow(k)\n",
    "        axs[i].set_title(j)\n",
    "        list_entrop.append(k.flatten())\n",
    "    plt.tight_layout()\n",
    "    plt.show()\n",
    "    if entrop:\n",
    "        entropy_color=calculate_entrop_t(np.concatenate(list_entrop, axis=0))\n",
    "        return entropy_color\n",
    "\n",
    "def unsub_cb(Cb_down):\n",
    "  val_int = 0\n",
    "  Cb=np.zeros((int(Cb_down.shape[0]*2),int(Cb_down.shape[1]*2)))\n",
    "  for i in range(int(Cb_down.shape[0])):\n",
    "    colonne_max = (i+1)*2-1\n",
    "    for j in range(int(Cb_down.shape[1])):\n",
    "      ligne_max = (j+1)*2-1\n",
    "      val_int = Cb_down[i,j]\n",
    "      Cb[colonne_max, ligne_max] = val_int\n",
    "      Cb[colonne_max, ligne_max-1] = val_int\n",
    "      Cb[colonne_max-1, ligne_max] = val_int\n",
    "      Cb[colonne_max-1, ligne_max-1] = val_int\n",
    "  return Cb\n",
    "\n",
    "def combine_blocks(blocks, original_shape):\n",
    "    \"\"\"\n",
    "    Combine les blocs dans une seule image en inversant le processus de découpage.\n",
    "\n",
    "    Parameters:\n",
    "    - blocks: Les blocs résultants du processus de découpage.\n",
    "    - original_shape: La forme originale de l'image avant le découpage.\n",
    "\n",
    "    Returns:\n",
    "    - L'image reconstituée.\n",
    "    \"\"\"\n",
    "\n",
    "    block_size = blocks.shape[1]  # Taille du bloc\n",
    "    num_blocks_height = original_shape[0] // block_size\n",
    "    num_blocks_width = original_shape[1] // block_size\n",
    "\n",
    "    # Reshape pour obtenir les blocs dans le format original\n",
    "    reshaped_blocks = blocks.reshape(num_blocks_height, num_blocks_width, block_size, block_size)\n",
    "\n",
    "    # Transposer les axes pour obtenir la forme correcte\n",
    "    transposed_blocks = reshaped_blocks.transpose(0, 2, 1, 3)\n",
    "\n",
    "    # Reshape pour obtenir l'image originale\n",
    "    reconstructed_image = transposed_blocks.reshape(original_shape)\n",
    "\n",
    "    return reconstructed_image"
   ]
  },
  {
   "cell_type": "markdown",
   "id": "f6d4fa29",
   "metadata": {
    "slideshow": {
     "slide_type": "slide"
    }
   },
   "source": [
    "# JPEG Compression\n",
    "Membres du groupe :\n",
    "- Alexandre Blain\n",
    "- Paul Corbalan\n",
    "- Johan Lagardère\n",
    "- Younès Loulidi\n",
    "\n",
    "Département Génie Mathématique et Modélisation\n",
    "\n",
    "INSA Toulouse"
   ]
  },
  {
   "attachments": {
    "jpeg%20decompression%20steps.jpg": {
     "image/jpeg": "[encoded data removed]"
    }
   },
   "cell_type": "markdown",
   "id": "1b4c2a28",
   "metadata": {
    "slideshow": {
     "slide_type": "slide"
    }
   },
   "source": [
    "# Introduction\n",
    "\n",
    "![jpeg%20decompression%20steps.jpg](attachment:jpeg%20decompression%20steps.jpg)\n"
   ]
  },
  {
   "cell_type": "code",
   "execution_count": null,
   "id": "0aa6db14",
   "metadata": {
    "slideshow": {
     "slide_type": "notes"
    }
   },
   "outputs": [],
   "source": [
    "-images numériques combinaison de bits et leur résolution a été croissante\n",
    "depuis l'apparition d'internet\n",
    "-Pourquoi a-ton besoin de compression?\n",
    "    sans compression 45 000 images en 4K =1 To d'espace de stockage\n",
    "-JPEG format de compression d'image le plus utilisé du monde 86% des images\n",
    "car il permet de diviser la place en mémoire tout en conservant la résolution \n",
    "-Nous allons nous intéresser aux différentes étapes ..."
   ]
  },
  {
   "cell_type": "markdown",
   "id": "1192ee9e",
   "metadata": {
    "slideshow": {
     "slide_type": "slide"
    }
   },
   "source": [
    "# Entropie\n",
    "\n",
    "L'entropie $H(X)$ est calculée comme $H(X) =  -\\sum_{i} P(x_i) \\log(P(x_i)) $ ou $P(x_{i})$ est la probabilité d'occurrence de la i-ème valeur unique d'un codage(une image)."
   ]
  },
  {
   "cell_type": "code",
   "execution_count": null,
   "id": "01ec88cd",
   "metadata": {
    "slideshow": {
     "slide_type": "subslide"
    }
   },
   "outputs": [],
   "source": [
    "def calculate_entrop_t(image):\n",
    "    \"\"\"Calculate the entropy of an image.\"\"\"\n",
    "    if image.dtype != np.uint8:\n",
    "        image = image.astype(np.uint8)\n",
    "    image = image.flatten()  # Flatten the image to 1D array for histogram\n",
    "    histogram = np.bincount(image, minlength=256)\n",
    "    probabilities = histogram / len(image)  # Normalize to probabilities\n",
    "    probabilities = probabilities[probabilities > 0]  # Exclude zero entries\n",
    "    entropy = -np.sum(probabilities * np.log2(probabilities))  # Calculate entropy\n",
    "    return entropy"
   ]
  },
  {
   "cell_type": "code",
   "execution_count": null,
   "id": "2bb20a41",
   "metadata": {
    "scrolled": true,
    "slideshow": {
     "slide_type": "subslide"
    }
   },
   "outputs": [],
   "source": [
    "if image is not None:\n",
    "  plt.figure(figsize=(5,5))\n",
    "  plt.imshow(image[:,:,:])\n",
    "entropy_image=calculate_entrop_t(image)\n",
    "print(\"Entropie de l'image initiale : \", entropy_image)"
   ]
  },
  {
   "cell_type": "markdown",
   "id": "a9198778",
   "metadata": {
    "slideshow": {
     "slide_type": "slide"
    }
   },
   "source": [
    "## Base de couleur et sous-échantillonage"
   ]
  },
  {
   "cell_type": "markdown",
   "id": "c43b6a59",
   "metadata": {
    "slideshow": {
     "slide_type": "subslide"
    }
   },
   "source": [
    "L'utilisation d'un espace colorimétrique YCbCr permet d'optimiser la compression en exploitant les caractéristiques de perception visuelle humaine, où la sensibilité aux détails de chrominance est moindre par rapport à la luminance.\n",
    "\n",
    "\n",
    "\\begin{equation}\n",
    "Y = 0.3R+0.6V+0.11B\n",
    "\\end{equation}\n",
    "\n",
    "\\begin{align*}\n",
    "Cb &= -0.17R +0.5B - 0.33V+128 \\\\\n",
    "Cr &= 0.5R - 0.42V- 0.08B+128\n",
    "\\end{align*}"
   ]
  },
  {
   "cell_type": "code",
   "execution_count": null,
   "id": "a246ce32",
   "metadata": {
    "slideshow": {
     "slide_type": "subslide"
    }
   },
   "outputs": [],
   "source": [
    "#séparation d'image en channels\n",
    "V = image[:,:,0]\n",
    "B = image[:,:,1]\n",
    "R = image[:,:,2]\n",
    "\n",
    "#conversion to YCbCr\n",
    "Y=(0.3*R+0.6*V+0.11*B)\n",
    "Cb =np.array(-0.17*R +0.5 *B - 0.33*V+128)\n",
    "Cr =np.array( 0.5*R - 0.42*V- 0.08*B+128)"
   ]
  },
  {
   "cell_type": "markdown",
   "id": "85c2b344-cafb-44f3-9413-4736e4eee9d0",
   "metadata": {
    "slideshow": {
     "slide_type": "subslide"
    }
   },
   "source": [
    "<img src=\"data:image/png;base64,iVBORw0KGgoAAAANSUhEUgAAAlYAAABUCAMAAAB3LIkPAAABVlBMVEX////u6///6+ump6by7///7+/w7f+Xj4+Qj5f/8vL3+PiPjpOTjo708f+oqaj76emJiJDUxMSMi5jY2Nj/AACxr72Jfn7bzMucm5sAAADd2uuxoaCiobGmmJeZmKbDws/u2tr/enoVnP/l4/S9r65mZGx4b29eWl7k1NTU0uPIu7vLyNZ3dX+Xi4u0ssJsZGSenKODg4PDw8OVlpT/1tb/xMT/jIz/dnbv1ujq6uq1trX/goIoKCiyqqr/bGyZmJ3Kysr/UVH/qqr/mpro3uX/Vlb/Y2MAeM3/vLwAien/oKD/Hh7/Q0Pxw9NBQUH/zs70nar/LS2kutcvpP+9z+//Ojr2iJQAje/zr70hfMMso/9Ztv8dHR0uLi5VmdQAa7/0mKV6xf8AgNSyyOuTtuFhuv8ActNRktD2gYx3qdwwgcYji9tIn+eKzP9Vodzwz99OSUyGsN87idGJAAAakklEQVR4nO2d/18S2ffHRWdmF4JxCyxk330ZMMi0XCAhhiJQARWyNeStRuFaKqv5buv//+Vzv9+BuXMZBOGzjzy7fYHTnXPuvU9e9zJfjlNTN3ZjN3Zj/xrzTcZukrve5CZtyV8kFl/+VWKP78raJmRNfzPd5BaMSwPInPLwy9J+LefcJKdLe78ic959LB3W32TepKtZ9fv9zuGT8jmXNZX2y+9ns+r7RZ12NHVhLqA5WuDBE+e2qvpY0lSJhF1htSBJzhuflXkTsvAP/yPr11zQTXLhR5Lez96VDeu9B7LwdyKKJPU7buTK98uss03f/l119qrPnkxL2sYlTacfhXkCrP8qN/rOwpziwaYpzDTylgUr1UuNH+1xwLmpNihW9twgVs6ZQ6xorAAz2hmIlXNyyqBYCXpvwcpr80KsaCyeHBvWOxHN0atpv7rDShb+9oI9c+b1PnsiGXQ17p22tWX/XoTVrJ/ZU7UXK20xeYvaombD6jXVTf9rG1aa5w1ryg43IFbqPZ4cDcqxUheYM0zfY1hpsVtviN16qDCsWCIst+SSNiBWNPxre3gLVmHmfc16Q7HSlnhyFCaOlfKQJXcrRrkaEKvZNFui2KwyrNQndN7S/nt0WDlWT18z41ixflnmnL4nxCo5Qyy9YMdqiXmTdqzUcJg4w2k7VrFb7MB/0PcGxeo2Dy/A6nWaev0CrHi/5gRYMa+fQTcoVrz3fgFWfupN27FSHgqGlWP1nPUreWWsBLNqwYqHv23HKpwOY0snBVjxXoepgomx0vE/03n/LVj5qdcvxAp79ZmwECviDf9xVbW6zcOLsGLhxVgRrxArfuAhsLKFt2LFei/CioUXY8W8V8eKzaoQK9Z7EVYzOrYZvwgr1q+RYCVVKwesZsaDlVytxFgx7/BYzThgRXv/r8OKzaoYK9qvvlildN10xEpP6abpiBVwmbojVqYJDzwUVrqJwouxmtFxeAesTNwvMVZ6agYdeJhFsDd8N1ZobJywIv1ywAofeDisSO/FWOnY64AV7ZcYK9TUxSJoFmEfnNSqaKIeirHSgzCEI1ZBc1isSHgntQoCOpyxKprOWNEDD4UV7r0TVkH0oXJQq95h7VYr0HRorIoSrGjvHbAKzqSc1Qof2MUiWDRli2BQlyyCqaJsESymhl8Eg6ZkETSDskUQ98tpEUT9Gm4R7AnfswjCsXFeBHuGtRsrE3uHWgTR4DsugnhYHRZBPKtOiyCe1WvFypRilRoBVkVdtreSYpW6bqz0ogwr8+pYoX4NiRXuvRNWeFid9lZBGVamS6zgQuqIlW46YwW9zt8EyYGHwwqHd8IKeR2xMh2x4gceDqvu8L1YmRKseoe1GyviHQorU4pVylmt9Bm0tXDGynSBFd33C89b0S80w5y3Cl/9vBUP///4vJX0m+DMVb4J0m9bw2ClQy51xy079jqdYEBOpxMM2NsPK3o2OCk8HerHp3v9AqwsZ5IFauW55acnsq9+lp0nJ8KKeYVY3eoN34XVLdqvq59lp+GTQqyYV4DVEu+XAKuH3Ht1rJgJsWImwoo5hVgxrxQr6wVGehCOlSfmIcb+YsHK3tRyTZA3YU0HviY4bQ9guSYoCM+vCXpizOg7HCuhd0CspmcfUeMZcazsXss1QUF4jpUWs3sHvib4yB6eXxOctXstWHEn66oFK4FXiJXdGFaax3IRXYCVtQ39JPBLzfamg2NlCUD7z7ESGMPKejeAh2Rgxcqe3MBYCbLreweDIDmlFyvhyA2KleVyMZkaC1bTgmv0HKtpm9OKlcArwKptmSSvsYrepVhpsTaXHo+n3I2V+n7RMmSb61gSKVbK+R4bE0/grwPlClhtnFsnqUySdIWVcu6xhP/vP1ovVnYbDCv1/ZJlpFcz+IVLrM4taSiG0ouVwAbDSv1hndXMOzxft0WfVvavnonEgqUelzjtWKmLR+85pC9C5S6sAudHnI3AQejPQBdWhx0ey1sKkYNgrLTIkXXsQnXP4Fip50cbPMB2aBu96worbe/ohAtTLJQNjBqr2YsLC1aV0Av0yhVWyollWJW3IfyRGyVWPbNaGDdW052tz3xblG+GkFwRrLTY560On4d6qeaxYKW+P6su0mDqZm0XyxXBKnC+VWVjF/hrt4bGbjCsNj5vnbPbfKabpV3cfzdYBdpbh0yuAv9thpBcjRAr9f3WGZMrdbXWzKNM3anV4Vab5aGUmnVtxFipoPd8t5nZDSG5Gh9W6lI1ukXBVl/UsuUSHB2ClfJjK8rYCBzU8jUkVwSr2cPofpuFLZULNfw3hJUWAwdmchWrFSpIrgbCSgXhmVyp27v52jZMzg1W2l41WqVypb2sZetIrkaI1ezF/j6TK7VSymK5coOVclLlw6q8BcOKPnIjxGqxGj2zzGqhVECzOj616uxHoxRsb75uGEiuMFZArKKAHDoR9YpRQHKFsVLfV6NRKldArAwDyxXGCohVlI0dEKu8gcZuIKw2QPgttrvaheHhCzdYAbGKRi+IXAGxMrJIrkaHFe49kSt1NZQ1mgbsvQusNM9FlH/ktHLZwB+5EWIFe89mNQN7D5kfG1YqwDpK5QqswVnDQHKFsYJiBdlAA6AcAHDyu38FKFazYHCYXAGxMowCWqQQVloEHZiMHRArw6iUPINhpeLwERxgG4Q3kFy5wAqKVZTKFRArEL5uBEaJFRAr0HuytwRiZZCpc4EVFCv2kQNiBfsFP3KjwwrNapXOKux9qeIdp1pBsQJgo5XGC4bewHKFsEJixeUKiBUkh6oV2FlBL5YrJFZErhBWSKzo2AGxMsjYDYLVBhwcJle7KDxcZ11gpcCPa3QfyxUUKzDrNSBXI8OK9v4h6v07+HnEctUfKyBW+/wjB8WKfORGhpWKek/kCooVnFWwuxoXVmBn1WhEW9GtExWJlZHJALmqezFWQKyAt4HlCohVJpPJGlCuEFazhx8ajcYHLFdArDKZPJh18IGFWAG1aEAv2plqQKzggaHUD4CVek7Cw7MY3m0SHoDbHysQ/gNqCuUKihXIDcnVyLCCvQf/7XdQyHIJ9h7JVX+sgFg1PkQ/4I8c+BpowOTgR25kWC1W0cChRQguQTAAlKuxYdU5bTUaxx+QXHmz9U1jPZ/JhzZViBXYdB8D5I4BObC3zeyasZ3PFHZjCCv1/dfT6GmjheRK3QytZdYz+TycdYiVcn7Z+tBqtaLwizQQq808PDAYuwGw2iDhkVypIQOHr7lRK6WNwjf24ZdBIFZroHEeytWosAK9B8nB3u+pcGe1vQ64ytSBXPV/oMtzCIatcRzFXwbLFZBcNg/lalRYqZ1LkNppA8mVN99cy2/n83kgV2PCSl06A0iBmTs9O1GhWG2CVXgzXy4hrIBY/Q9I6XGrBT5X4Gvg+nbWyKxBuYJYzR4CaKKN01P4gQVitQk+EZsAuhfoOcG96nEjGm21TrfaAe3lbmUzCw8M5Mo9VkCscPgGkCsgVutrOPy6ty9WPPzZiQLEytjM5vObYNaVEWEFe38Ket8CvZ+FYgV7v7aeBWLdFyvlhPVrTwM7K9CvfGYNfuRGhdXiGez9aeMUyBUUKzT4mVJlbFhdHH1tf61++9qpHm54s6FQud6sFUKh0KZ3YS4Qq1bbl8B7+fWoo2m1UK3S3G2WQ6HdlxCr90efv339+vXyW/VoEYhVrVSu14xaLZRBWJ1D7+fLy3b1aC/wVyhUqjdD4PihA/ePn24cgcRA+PbnI7DO4vB1EL7WX6209tFXFP7b2aFH+W+oVqjXd2Fy/wRGhJWl93ve1VCtXgEDt1sLGf2x8hyeoX5dXp4BuSqFmtlmvZ6theqjUiu1g3r/7Svo/YbXAANXr9fyoPer3jEtghvcZqdfWAztrSKxSIz87/G85IYWwY3FxQj8tbi4uKG+WF1dffdu9R38Ay2CuB04QCQC9jYWc69Ws5bkpq3JuVgE97h5tLcHB2+hHbw9eDkqtdqIRDboL/XFO279F8HYly9f9vbg/1++eDwHwN4eIBvZIgimJBLBUzM7jeYE/b/6Yjxq5YWPp6rgN/onf1rV+/R5QGIPnnit/1rteuV9HFCcm8ZcYuVVnSKo3vi0V3U0gJXEHs7JvG6xkvR+9q4sN4CVo8FFUJaca7XqiYnmF0/xvQVZcgAriVfWL8tTzVPx3yV2d/k/Env8TNZ2R9b0gTus4ved7ffvEud9EP6Bsy0/ljgfPHaFVfq+rPcJmfPZY9nYJB5IB91Nbr67tyX2+tk9Z+e9+IKk6b0VSdPbT/msLj+U2INfZOndnZO1TciaLrjD6o7k+EsJWfSl77Lw95/JvM/cYSUb/qcrsgCvl5ckmS9Lh3XZlVo9viOxZan3+7LUKz1wmiXwa4CWtrAIMX3nuVQu7y9K2iorLuVShtVzWXLLHsXm5e8kZJk/fS3zLrjdWzmbdBFE3wQdDVaMkXjdLYK/ytbRJdkWwCdfg5dlTr618f3K9oeLzPjN1Pw+wifM2F2G9+l9slqEt2V7yxV20wFvKriPUIoVuzk1BrafxGiAwDK7ETcSsXsTkvDq099l/XKLFeuM/T5Jy5bd7rXcHRoTZG65O9Tudbll57Nqv8NUW2J1gIQ3p9JZFTT1KMuC+1r5PNix0mL8xml2z/dzy13PzEtri3CslD/Y/dq37FjN8ru5w3SwB8VKdM83w0qZ4+Hpexwr0T36DCtrv+jd3INipYavfC+7sF+juJddNqscK22Re5fYzalMLObss2rB6g3zCh58sSZACjlYHnyyYkW9fhFWYVoEQogVLRERvipWCnqeDIcXYcXC+wVYsfBpIVakJX/2ZHCsXD15I3ygS1TaYhQ1GKyz2vvcURdWrHqEAKs/WL+EWLEnit70wYr0wQEr4nXAqjeBLqzowA6FFQkvxoqGF2JF+yXEinqHwerKpT3Gh5UuxUoXY8X6JcSKVozpixV88EuKlS7DSnfGCh94aKx0R6x0Et4RK12K1bWrlS7FSlKDYTRY6VKs9KthRfvVF6tUSk85YgXLV5hOWMHnwVO6I1bowDNDYaUHTRReiBWqQaE7YlU0Ub/EWNF+DYMV6b1TaQ/gdcSKhHeqGIP6NRxWPbPag1URD6t4EaT9EmNFZrX/Ihg0JYugiSo0OKlV0JSoFT7wcGpFwjssgqmiRK30oClZBM3u4hZXUqtiSvawPBwbR7XC/XJSq1TqKg/Ld69B3bPagxUZVge1gpV+nNUK96s/VqgCh+MiiEtgOGCFS3s4YYVLewy3COLwTnuroGxvlZJhRQ481N5Kl1aMcSztIaqY0lOD4UqlPXpmVYYVKe3hgBXplwNWeFaHxao4WaykaqXL1KoPVsURYFWUlvaQYlWUYlUcAVYpKVYytRoFVv1OMMxM8gQDDe90ggHVoBBjJTvBwA88DFYkvEPtUNJ7h70VDu+0tyLeIbDCX5ccsUL/OWOFWjt9E0S1PfphlSYmOh16j3tFWPmpV4gVdaavjlUyTI4gPB3Kw4tOh9Lg4tOhzHt1rFhFYBFWSeYVlvYgzrAIqzk/814dK3oIvxCrGRpAhFWahRdhRZ1pGVYezxwzVjuFX7x5tMCMDSe/ePOQNX0owOopa3r7ilhpEZ5cxIYVGCdmNLwFqwVWXfyeDavpR7z2+JOrYiWoX27Bijuf2rDSFv9gZq/Lri1x75WxYkd489COVeQN83Kq2aw+Z94/BFjNMeecTK34hVtFs2PVVSKiByvN8qMYFPoMseWaYNdl1qthZflREJoNK8tPW2AXuyzXBO3RLVgJf3bGgNcE7YewYiUIwK8JWvtFM5f9FImBsdLss2q5Jij62SD8mqB1Vu1Y2b0CrDRLAQ6P9k+sByv2NDwcFVz3g2GlRWKWtp5/tG6sIpabONUXuETBoFh1JffWhpXAGFaWsiPT6js7VnYbGCuBuSztIcx8FHeH0lm1Hkp7Sf60XGoWhV+UhLdgJcjNhpUWO7RMnVb+Cz9rSrFa5I/yw2eDSOURglWgfcJjBf4s4RcMqw6vLjHtLRjewbFS9i6sg1N7icO6wko9tHDlrZP6ED8JVprnwjKrSoWU6xkfVsrJEa81pLwN7eK/EKzU9hlnw5sJVbwWrLTI0aGl2M9u6C1OHmOlLh51eM2QF6EalqvBsOqcfeGr29+hv3HVDjdYqe/P2nw5Wg2R+hA/CVbKl+5ZJeV6xoYVEKsoL4qjVcq7qHgHxWqxyh7lR09dk8ojGKtAe2uLyVXgz91yGZcAIlh19vEzv4jIQr2OK6oMgpWyV90/ZOv3SxAeyZU7tTrEz63i8KUyqQ/xc2AFH5w+4hu1SpmU6xkbVsrJVnSLgg0fscXFOwhWanuf15Px5pv5UtnLsEJ1Dg7pDMd2CwaWK4yVunQW3adyBZ9BzGK5GgQrrbMfrVK5CvzdzKM6Cq6wgpU39qlcqZsh/Jj9z4KV8qXaPauV3bFiBcWKF3ZB9QBQ8Q6CFSoRQeQKl4hAcoWxQnUOtkixHyBWhlEuW7CChQaoXHmzdcPAcjUAVgqqz3FIMof1ObJIrtxgheqOULlSUb9QfYifAitc5YHOqgLrjoQOAmPECopVlIINsTawXBGsUH0OUnkEl4jAlUcgVrgoC5WrWBNW3qhBuUJYwbpZsLbGLCYSlr5ABRoGUitUd6SKwQViZZCyLy6wQmWCaFUQXHcElbP5ObDCJWm6ZrXS1MaHFRYrVtilXM4bWK4wVkisCBtIrLKkngzEChdlIXIFxSqbNcoVjaoVLkUDSxQgsYIHRvXq3GOFxYpUqdJehmB4JFcusEJlgqhcQbHKYrn6KbAiJWnorAKxypJyPWPCSjn52mo1TnGVCYD1emY7n4VyhbBS25et0+gp3l0BsdrObGezpQrGCohVq9Fq4OoZHk+zsL6eyWahXEGs1IfV0wasrXGBiAxl8IGBXLnHSutctlofTrFcAbECyWWRXPXHCohVCxipCrIZyqxvG1koVz8FVkCsWrDsCJ3VzPo6lqsxYaV5YAmMD8cNWGXCEyhVYAmMtQyQK4TVYvV/0UYU/AsgVxCNtWwG1qBYVSFWSvvyNNponDagXAX+rG1m8iB9KFdIrTqn4MCgc2dArrxGfRUeeB3KlWusgFjR8B4NiBUKv20AueqP1ewFCA+w/gBrrsG6I9lMfjsD5OpnwAqWpGlFG6ctJFdgCYK9X8/UDgJjwirw4wwMf/Q4enzW1gDWhbVKobINvo7GIFZqe+s4+mH/uNE6e696jZqxXskW1ivNMsRK2Tu6bO2DqTver8ICVqW1bKWwXaiAL4MAK3XvrHW5H201jrcOVfVdqEwOHHrh9jlBgNXF1vF+dP/4snV2ogTyu/ntSsHIVHazgb5Yqe9Bv3D4tgrECvarAPv1U6iVcoJm9fQD6L2CZzVbWCuUm2NSK0Vrd9rn553z83anEwv8XSpVspXy36Vy6SAAsNpot9s/zjs/ztvt89npUqleKJQrRr1UeuEFWJ10YDvY/OKLclAvlY1CPV8ulf7WoFr96MB25+BXZ9G7DbzZSikPDrHmGqvA3gVI7hsI0um0PR4SPgsO9bIvVrPnnTYMD9tuqPl6vVIo18EfzU3vz4BV56Jz3r749q19cbEXMJrNMkAq32zuHgTGhJUCnwYOoIeDNXp5E/6h4b2V9VIpq6vh9aK9lYL+JWlquW6qIKy6mqq8qeunmucUDR8dBlCAlnNzs7cShMdlOEaDleQY14WVNsDeSlE0dhlZwy/gL48yJqwcLWC5g8FuUK2c2yr8DgbBwLpWK0lyACuJNyELf91Y9a9vJcn8TkQ2rL+5fFhe8rz90pz8WX2Zd1nmtNQBuiWzJP/RVwKL/yZruyJrmjTdzFwuKQ0gTV0ePi715twkZ8rHRh5elrnUeeuWm9x8yd8ktvxY5k0sy7zfpQeecZPcjf17zTcRm3Svb+zGbuzGbuzGbuzGbuzGbuxaTLrXn/QXgUnH/9fapAeumOx6+b3rBI+Znpqo+VPsr7nkynf+asqMJ9ydi7o+swxVMZ5YsZxw1ZNJV+eGr898O5YXwYQVslx4DKeifB/j1pfheWsGvvnJjk5wnoGUS/qmcvNsQExzaio9P1GudB4+CIbJnGdchZP41wRt5RP7azCetE5q0v9xDFoxk7BiFezGKvx9omrlC79iWJk7YBKTr2h2ifCkoc+FOVZxyNArOpC+jwCw3ESZTyU/WV4FuyZ1auf6J7VYTKLRwGdTfeEczgAPiRlMTBSrmRzGCiaXgmKAoYfJrayA3+YnqQhpAg78zb8D8tpJkFSD0OGbT8nbX6fl9NSrKZocx4rAdf1Y+cJTcYRV/CP8Xc9hrPDik5uZmihWQXPqI8zD9wniA/P6DmfORLOGps/VVcjrMTOIscJJ+CBHcKzin+AnADomKaVhn4mwIus0wco370fe68dqJkewMmFEMI8Yq1w8h5KbKFYAeYzVlJ/gE0Tbl2CcfOpWEhPKbArqAVnmfHGypUp/gmnBcUTcT41jB+NgqeIUxooMFVWrJBbQa8cqCOIk+d4qPEWwwskF8RZmUmbmKFbEfB+LXf7vE/wSHe7dPQXZto9gNT8xrMAqQ7AiNua9lS+eSqUSiRQJqqdTKX3eJJ8+3wpw7sSLk5q7HEzuo7/I3vAluu6ZKq6MOyOLmf5UypzXeUJBC+NFvLea2Aqd1FOp5McUh37cW/ZiKlXcSVBycmAewxwr6Pw4Oax8IJvUfLrI3oCnqXSWTRCsNr6J3QsEh4p/AuHpjymkYPjFfJD8NhkLgombKFbQ8AmGdMKaQW6HjMmrCZ8OxV+nVuCEJZOmPgMVqghPNeS+66ae1CeZG/rCB4aqCIV0xtTDcHuahhmugLxSO/LW12xhtAimdhBPRbJcf8fjteO/9vA5/853Pwjqx1jNrOzEgXgHPxXhq2ByJ5Ge4AammNxZAd8b0BeH1KtPr159hKKQ+gTyjb+CNjFBAKbjocrBoUqj5OCqh8Yxt5IqJiaZmy+d2EmCBEw4VDn/yk4STqNvB6q7DiY1Wbz2DLpuAKT3A/q6Xk3KrPEttyr6ul9OyKxD1ZuNLxic7DW5rnnsTm7yI3djN3ZjN3Zt9n/xa/EPIcrMSgAAAABJRU5ErkJggg==\" width=\"2000\" height=\"2000\">\n"
   ]
  },
  {
   "cell_type": "code",
   "execution_count": null,
   "id": "d415d8a8",
   "metadata": {
    "slideshow": {
     "slide_type": "slide"
    }
   },
   "outputs": [],
   "source": [
    "#sous echantillonnage de l'image\n",
    "Cb_down = sub_cr(Cb)\n",
    "Cr_down = sub_cr(Cr)\n",
    "ent = calculate_entrop_t(np.concatenate((Y, unsub_cb(Cb_down), unsub_cb(Cr_down))))\n",
    "plot_fig_entropy([Y, Cr_down, Cb_down], ['Image Y', 'Image Cr_down', 'Image Cb_down'], entrop = False)\n",
    "print(f'L\\'entropie après Changement de base et sous-échantillonage vaut {int(100*ent/entropy_image)}% de l\\'entropie initiale')"
   ]
  },
  {
   "cell_type": "markdown",
   "id": "b3774eaa",
   "metadata": {
    "slideshow": {
     "slide_type": "slide"
    }
   },
   "source": [
    "## Découpage en Blocs\n"
   ]
  },
  {
   "cell_type": "code",
   "execution_count": null,
   "id": "123724c2",
   "metadata": {
    "slideshow": {
     "slide_type": "notes"
    }
   },
   "outputs": [],
   "source": [
    "En moyenne dans une image on a souvent peu d'information sur des blocs 8*8 \n",
    "surtout si arrière plan lisse: ex ciel. \n",
    "Nous allons donc découper nos channels en bloc de taille 8*8"
   ]
  },
  {
   "cell_type": "code",
   "execution_count": null,
   "id": "30d89bb9",
   "metadata": {
    "slideshow": {
     "slide_type": "subslide"
    }
   },
   "outputs": [],
   "source": [
    "Y_blocks = split_into_blocks_numpy(Y)\n",
    "Cb_down_blocks=split_into_blocks_numpy(Cb_down)\n",
    "Cr_down_blocks=split_into_blocks_numpy(Cr_down)\n",
    "plot_fig_entropy([Y_blocks[1,:,:], Cr_down_blocks[1,:,:], Cb_down_blocks[1,:,:]], ['Y blocks', 'Cr_down_blocks', ' Cb_down_blocks'], entrop = False)"
   ]
  },
  {
   "cell_type": "markdown",
   "id": "332128db",
   "metadata": {
    "slideshow": {
     "slide_type": "slide"
    }
   },
   "source": [
    "## Transformée en Cosinus Discrète(DCT)"
   ]
  },
  {
   "cell_type": "markdown",
   "id": "36e70900",
   "metadata": {
    "slideshow": {
     "slide_type": "subslide"
    }
   },
   "source": [
    "On transforme notre image dans le domaine fréquentiel.\\\n",
    "Pour un coefficient DCT unique dans un bloc 8x8, la formule est donnée par :\n",
    "$$\n",
    " F(u, v) = \\frac{1}{4} C(u) C(v)\\sum_{x=0}^{7}\\sum_{y=0}^{7}(f(x, y)-128)\\cos\\left[\\frac{(2x+1)u\\pi}{16}\\right]\\cos\\left[\\frac{(2y+1)v\\pi}{16}\\right]\n",
    "$$\n",
    "\n",
    "L'humain perçoit mieux les basses fréquences que les hautes fréquences dans une image."
   ]
  },
  {
   "cell_type": "code",
   "execution_count": null,
   "id": "88020858",
   "metadata": {
    "slideshow": {
     "slide_type": "subslide"
    }
   },
   "outputs": [],
   "source": [
    "Y_DCT=dct2D(Y_blocks)\n",
    "Cb_down_DCT=dct2D(Cb_down_blocks)\n",
    "Cr_down_DCT=dct2D(Cr_down_blocks)\n",
    "plot_dct_channels(Y_DCT, Cb_down_DCT, Cr_down_DCT)\n",
    "ent_DCT=calculate_entrop_t(np.concatenate((combine_blocks(Y_DCT, original_shape = (int(image.shape[0]), int(image.shape[1]))), unsub_cb(combine_blocks(Cb_down_DCT, original_shape = (int(image.shape[0]/2), int(image.shape[1]/2)))), unsub_cb(combine_blocks(Cr_down_DCT, original_shape = (int(image.shape[0]/2), int(image.shape[1]/2))))), axis=0))\n",
    "print(f'Entropie après la DCT vaut {int(100*ent_DCT/entropy_image)}% de l\\'entropie initiale')"
   ]
  },
  {
   "attachments": {
    "419943923_1037937914100325_6576412484957917311_n.png": {
     "image/png": "[encoded data removed]"
    }
   },
   "cell_type": "markdown",
   "id": "9125a7d1",
   "metadata": {
    "slideshow": {
     "slide_type": "subslide"
    }
   },
   "source": [
    "# Quantification\n",
    "![419943923_1037937914100325_6576412484957917311_n.png](attachment:419943923_1037937914100325_6576412484957917311_n.png)\n"
   ]
  },
  {
   "cell_type": "markdown",
   "id": "af9ce03d",
   "metadata": {
    "slideshow": {
     "slide_type": "subslide"
    }
   },
   "source": [
    "Les tables de quantification de base que nous allons utiliser dans ce projet ont été trouvées sur Internet : elles sont classiques et souvent utilisées pour la compression JPEG.\n",
    "\n",
    "La table utilisée pour la luminance est :\n",
    "$$T_Y = \\begin{bmatrix}\n",
    "    16 & 11 & 10 & 16 & 24 & 40 & 51 & 61 \\\\\n",
    "    12 & 12 & 14 & 19 & 26 & 40 & 51 & 61 \\\\\n",
    "    14 & 13 & 15 & 20 & 25 & 38 & 51 & 60 \\\\\n",
    "    14 & 17 & 19 & 22 & 29 & 44 & 55 & 64 \\\\\n",
    "    18 & 21 & 26 & 34 & 37 & 52 & 61 & 66 \\\\\n",
    "    24 & 26 & 32 & 40 & 48 & 58 & 66 & 70 \\\\\n",
    "    29 & 34 & 39 & 48 & 56 & 64 & 72 & 76 \\\\\n",
    "    42 & 49 & 54 & 64 & 70 & 77 & 81 & 83 \\\\\n",
    "\\end{bmatrix}.$$ "
   ]
  },
  {
   "cell_type": "markdown",
   "id": "689342fd",
   "metadata": {
    "slideshow": {
     "slide_type": "subslide"
    }
   },
   "source": [
    "La table utilisée pour les chrominances rouge et bleue est :\n",
    "\n",
    "$$T_{Cr} = T_{Cb} = \\begin{bmatrix}\n",
    "    17 & 18 & 24 & 40 & 51 & 61 & 67 & 72 \\\\\n",
    "    18 & 21 & 26 & 43 & 55 & 67 & 72 & 76 \\\\\n",
    "    21 & 25 & 30 & 47 & 62 & 72 & 77 & 80 \\\\\n",
    "    24 & 29 & 34 & 52 & 65 & 74 & 79 & 82 \\\\\n",
    "    27 & 32 & 37 & 56 & 70 & 78 & 81 & 85 \\\\\n",
    "    30 & 35 & 39 & 59 & 73 & 81 & 84 & 87 \\\\\n",
    "    53 & 62 & 72 & 84 & 92 & 99 & 105 & 110 \\\\\n",
    "    60 & 69 & 77 & 90 & 98 & 105 & 110 & 113 \\\\\n",
    "\\end{bmatrix}.$$\n"
   ]
  },
  {
   "cell_type": "markdown",
   "id": "66c45a13",
   "metadata": {
    "slideshow": {
     "slide_type": "subslide"
    }
   },
   "source": [
    "## Facteur de qualité \n",
    "Il est possible de choisir le niveau de compression d’une image via un facteur de qualité. Ceci modifie par conséquent les termes présents dans les tables de quantification. Plus les termes sont élevés, plus la matrice résultante contiendra de zéros."
   ]
  },
  {
   "cell_type": "code",
   "execution_count": null,
   "id": "ef207c0d",
   "metadata": {
    "slideshow": {
     "slide_type": "subslide"
    }
   },
   "outputs": [],
   "source": [
    "Y_quantized = quantize_image(Y_DCT, quality_factor_matrix(quality, luma_table))\n",
    "Cb_quantized = quantize_image(Cb_down_DCT, quality_factor_matrix(quality, chroma_table))\n",
    "Cr_quantized = quantize_image(Cr_down_DCT, quality_factor_matrix(quality, chroma_table))\n",
    "plot_dct_channels(Y_quantized, Cb_quantized, Cr_quantized)\n",
    "entropy_quantized=calculate_entrop_t(np.concatenate((combine_blocks(Y_quantized, original_shape = (int(image.shape[0]), int(image.shape[1]))), unsub_cb(combine_blocks(Cb_quantized, original_shape = (int(image.shape[0]/2), int(image.shape[1]/2)))), unsub_cb(combine_blocks(Cr_quantized, original_shape = (int(image.shape[0]/2), int(image.shape[1]/2))))), axis=0))\n",
    "print(f'Entropie après la DCT vaut {int(100*entropy_quantized/entropy_image)}% de l\\'entropie initiale')"
   ]
  },
  {
   "cell_type": "markdown",
   "id": "ef35ef7f",
   "metadata": {
    "slideshow": {
     "slide_type": "slide"
    }
   },
   "source": [
    "## Nouvelle métrique : Place mémoire\n",
    "A partir de là, plus de modification de l'information mais une réorganisation de celle-ci\\\n",
    "nombre binaire -> 1 bit\\\n",
    "int -> 32 bits"
   ]
  },
  {
   "cell_type": "code",
   "execution_count": null,
   "id": "032ab0a8",
   "metadata": {
    "slideshow": {
     "slide_type": "-"
    }
   },
   "outputs": [],
   "source": [
    "print(f'Taille de l\\'image de base : {calculate_numpy_image_size(image)} octets')"
   ]
  },
  {
   "cell_type": "markdown",
   "id": "fc385790",
   "metadata": {
    "slideshow": {
     "slide_type": "slide"
    }
   },
   "source": [
    "## Entropy Encoding, RLE et Huffman encoding"
   ]
  },
  {
   "cell_type": "markdown",
   "id": "ac9830f6",
   "metadata": {
    "slideshow": {
     "slide_type": "subslide"
    }
   },
   "source": [
    "### Run Length Encoding (RLE)\n",
    "\n",
    "\\begin{equation*}\n",
    "    [1, 1, 1, 1, 1, 2, 2, 2, 3, 3, 3, 3]\n",
    "    \\xrightarrow{\\text{RLE}}\n",
    "    [(1, 5), (2, 3), (3, 4)]\n",
    "\\end{equation*}"
   ]
  },
  {
   "cell_type": "markdown",
   "id": "e87e1b28",
   "metadata": {
    "slideshow": {
     "slide_type": "subslide"
    }
   },
   "source": [
    "### Huffman encoding\n",
    "**Etape 1 : Calcul des fréquences :**\n",
    "\n",
    "\\begin{array}{cccc}\n",
    "\\text{Coefficient} & \\text{Fréquence} \\\\\n",
    "A & 14  \\\\\n",
    "B & 6  \\\\\n",
    "C & 3  \\\\\n",
    "D & 2 \\\\\n",
    "\\end{array}"
   ]
  },
  {
   "cell_type": "markdown",
   "id": "d931ad7a",
   "metadata": {
    "slideshow": {
     "slide_type": "subslide"
    }
   },
   "source": [
    "**Etape 2 : Déterminer l'arbre de Huffman (table de codage) :**\n",
    "\n",
    "![Arbre de Huffman](data:image/jpg;base64,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)"
   ]
  },
  {
   "cell_type": "markdown",
   "id": "18063938",
   "metadata": {
    "slideshow": {
     "slide_type": "subslide"
    }
   },
   "source": [
    "**Etape 3 : Codage:**\n",
    "\n",
    "\\begin{array}{cccc}\n",
    "\\text{Coefficient} & \\text{Fréquence} & \\text{Code Huffman} \\\\\n",
    "A & 14 & 00\\\\\n",
    "B & 6 & 01 \\\\\n",
    "C & 3  &10 \\\\\n",
    "D & 2 &11 \\\\\n",
    "\\end{array}"
   ]
  },
  {
   "cell_type": "code",
   "execution_count": null,
   "id": "4572a797",
   "metadata": {
    "slideshow": {
     "slide_type": "subslide"
    }
   },
   "outputs": [],
   "source": [
    "encoded_data, huffman_dicts = encode_image_to_huffman(image)\n",
    "print(\"Encodage d'Huffman :\", encoded_data[0][0], sep = '\\n', end = '\\n---\\n')\n",
    "print(\"Dictionnaire d'Huffman :\", huffman_dicts[0][0], sep = '\\n', end = '\\n---\\n')\n",
    "print(f'Taille du codage de Hauffman : {calculate_huffman(encoded_data, huffman_dicts)} octets')\n",
    "print(f'Taille de l\\'image de base : {calculate_numpy_image_size(image)} octets')\n",
    "print(f'Pourcentage gagné : {100*calculate_numpy_image_size(image)/calculate_huffman(encoded_data, huffman_dicts)} %')"
   ]
  },
  {
   "cell_type": "markdown",
   "id": "76b3b5af",
   "metadata": {
    "slideshow": {
     "slide_type": "slide"
    }
   },
   "source": [
    "## Pour aller plus loin\n",
    "### Test pour plusieurs seuils de qualités"
   ]
  },
  {
   "cell_type": "code",
   "execution_count": null,
   "id": "56852e18",
   "metadata": {
    "slideshow": {
     "slide_type": "subslide"
    }
   },
   "outputs": [],
   "source": [
    "images = load_images(folder_path=\"images\")\n",
    "quality_slider = pn.widgets.IntSlider(name='Qualité', start=50, end=100, step=5, value=100)\n",
    "dropdown = pn.widgets.Select(name='Choisissez une image', options=list(images.keys()))\n",
    "@pn.depends(dropdown.param.value, quality_slider.param.value)\n",
    "def update_plot(image_name, quality):\n",
    "    return plot_entropy(image_name, quality)\n",
    "layout = pn.Row(pn.Column(dropdown, quality_slider), update_plot)\n",
    "layout.servable()"
   ]
  },
  {
   "cell_type": "code",
   "execution_count": null,
   "id": "367d0019",
   "metadata": {
    "slideshow": {
     "slide_type": "subslide"
    }
   },
   "outputs": [],
   "source": [
    "images = load_images(folder_path=\"images\")\n",
    "quality_slider = pn.widgets.IntSlider(name='Qualité', start=50, end=100, step=5, value=100)\n",
    "dropdown = pn.widgets.Select(name='Choisissez une image', options=list(images.keys()))\n",
    "@pn.depends(dropdown.param.value, quality_slider.param.value)\n",
    "def update_plot(image_name, quality):\n",
    "    return plot_byte(image_name, quality)\n",
    "layout = pn.Row(pn.Column(dropdown, quality_slider), update_plot)\n",
    "layout.servable()"
   ]
  },
  {
   "cell_type": "markdown",
   "id": "8b9b12a0",
   "metadata": {
    "slideshow": {
     "slide_type": "slide"
    }
   },
   "source": [
    "### Extension Google Chrome"
   ]
  }
 ],
 "metadata": {
  "celltoolbar": "Diaporama",
  "finalized": {
   "timestamp": 1705564935636,
   "trusted": true
  },
  "kernelspec": {
   "display_name": "Python 3 (ipykernel)",
   "language": "python",
   "name": "python3"
  },
  "language_info": {
   "codemirror_mode": {
    "name": "ipython",
    "version": 3
   },
   "file_extension": ".py",
   "mimetype": "text/x-python",
   "name": "python",
   "nbconvert_exporter": "python",
   "pygments_lexer": "ipython3",
   "version": "3.8.18"
  }
 },
 "nbformat": 4,
 "nbformat_minor": 5
}
